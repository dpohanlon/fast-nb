{
 "cells": [
  {
   "cell_type": "code",
   "execution_count": 1,
   "metadata": {},
   "outputs": [],
   "source": [
    "import matplotlib as mpl\n",
    "%matplotlib inline\n",
    "import matplotlib.pyplot as plt\n",
    "\n",
    "%config InlineBackend.figure_format = 'retina'\n",
    "\n",
    "import numpy as np\n",
    "\n",
    "import pandas as pd\n",
    "\n",
    "from matplotlib import rcParams\n",
    "\n",
    "from tqdm import tqdm\n",
    "\n",
    "import re\n",
    "\n",
    "rcParams[\"axes.facecolor\"] = \"FFFFFF\"\n",
    "rcParams[\"savefig.facecolor\"] = \"FFFFFF\"\n",
    "rcParams[\"xtick.direction\"] = \"in\"\n",
    "rcParams[\"ytick.direction\"] = \"in\"\n",
    "\n",
    "rcParams['axes.linewidth'] = 2.0\n",
    "\n",
    "rcParams.update({\"figure.autolayout\": True})\n",
    "\n",
    "plt.rcParams[\"figure.figsize\"] = (6, 6)\n",
    "\n",
    "import numpy as np\n",
    "\n",
    "import scipy\n",
    "import jax\n",
    "import torch"
   ]
  },
  {
   "cell_type": "code",
   "execution_count": 2,
   "metadata": {},
   "outputs": [],
   "source": [
    "def p_from_m(mean, concentration):\n",
    "    km = mean + concentration\n",
    "    return concentration / km"
   ]
  },
  {
   "cell_type": "code",
   "execution_count": 3,
   "metadata": {},
   "outputs": [],
   "source": [
    "from fast_negative_binomial import negative_binomial, negative_binomial2, negative_binomial_eigen"
   ]
  },
  {
   "cell_type": "code",
   "execution_count": null,
   "metadata": {},
   "outputs": [],
   "source": [
    "%%timeit\n",
    "for i in range(100):\n",
    "    scipy.stats.nbinom.pmf(6,4,0.8)"
   ]
  },
  {
   "cell_type": "code",
   "execution_count": null,
   "metadata": {},
   "outputs": [],
   "source": [
    "%%timeit\n",
    "for i in range(100):\n",
    "    negative_binomial(6, 4, 0.8)"
   ]
  },
  {
   "cell_type": "code",
   "execution_count": null,
   "metadata": {},
   "outputs": [],
   "source": [
    "%%timeit\n",
    "for i in range(100):\n",
    "    jax.jit(jax.scipy.stats.nbinom.pmf)(6, 4, 0.8)"
   ]
  },
  {
   "cell_type": "code",
   "execution_count": null,
   "metadata": {},
   "outputs": [],
   "source": [
    "%%timeit\n",
    "for i in range(100):\n",
    "    torch.distributions.negative_binomial.NegativeBinomial(6 + 4, 0.8)"
   ]
  },
  {
   "cell_type": "code",
   "execution_count": 13,
   "metadata": {},
   "outputs": [],
   "source": [
    "ks = np.random.randint(1, 100, 1000)"
   ]
  },
  {
   "cell_type": "code",
   "execution_count": null,
   "metadata": {},
   "outputs": [],
   "source": [
    "%%timeit\n",
    "negative_binomial(ks, 4, 0.8)"
   ]
  },
  {
   "cell_type": "code",
   "execution_count": 15,
   "metadata": {},
   "outputs": [],
   "source": [
    "mean = 5\n",
    "concentration = 0.5"
   ]
  },
  {
   "cell_type": "code",
   "execution_count": null,
   "metadata": {},
   "outputs": [],
   "source": [
    "%%timeit\n",
    "negative_binomial2(ks, 4, 0.8)"
   ]
  },
  {
   "cell_type": "code",
   "execution_count": 18,
   "metadata": {},
   "outputs": [],
   "source": [
    "from numpyro.distributions import NegativeBinomial2\n",
    "\n",
    "nb_dist = NegativeBinomial2(mean = mean, concentration = concentration)"
   ]
  },
  {
   "cell_type": "code",
   "execution_count": null,
   "metadata": {},
   "outputs": [],
   "source": [
    "np.allclose(np.exp(nb_dist.log_prob(ks)), negative_binomial2(ks, concentration, mean))"
   ]
  },
  {
   "cell_type": "code",
   "execution_count": null,
   "metadata": {},
   "outputs": [],
   "source": [
    "negative_binomial2(1, 4, 0.8)"
   ]
  },
  {
   "cell_type": "code",
   "execution_count": 4,
   "metadata": {},
   "outputs": [],
   "source": [
    "ks_large = np.random.randint(1, 100, 1000000)"
   ]
  },
  {
   "cell_type": "code",
   "execution_count": null,
   "metadata": {},
   "outputs": [],
   "source": [
    "%%timeit\n",
    "negative_binomial(ks_large, 4, 0.8)"
   ]
  },
  {
   "cell_type": "code",
   "execution_count": null,
   "metadata": {},
   "outputs": [],
   "source": [
    "%%timeit\n",
    "negative_binomial_eigen(ks_large, 4, 0.1)"
   ]
  },
  {
   "cell_type": "code",
   "execution_count": null,
   "metadata": {},
   "outputs": [],
   "source": [
    "xs = np.linspace(0, 1000, 1000, dtype = int)\n",
    "\n",
    "mean = 500\n",
    "concentration = 10\n",
    "\n",
    "nb_dist = NegativeBinomial2(mean = mean, concentration = concentration)\n",
    "plt.plot(xs, nb_dist.log_prob(xs))\n",
    "plt.plot(xs, np.log(negative_binomial2(xs, concentration, mean)))\n",
    "plt.plot(xs, np.log(scipy.stats.nbinom.pmf(xs, concentration, p_from_m(mean, concentration))))"
   ]
  },
  {
   "cell_type": "code",
   "execution_count": null,
   "metadata": {},
   "outputs": [],
   "source": [
    "plt.plot(xs, nb_dist.log_prob(xs) - np.log(negative_binomial2(xs, concentration, mean)), '.')\n",
    "plt.plot(xs, np.log(scipy.stats.nbinom.pmf(xs, concentration, p_from_m(mean, concentration))) - np.log(negative_binomial2(xs, concentration, mean)), '.')"
   ]
  },
  {
   "cell_type": "code",
   "execution_count": null,
   "metadata": {},
   "outputs": [],
   "source": []
  }
 ],
 "metadata": {
  "kernelspec": {
   "display_name": "base",
   "language": "python",
   "name": "python3"
  },
  "language_info": {
   "codemirror_mode": {
    "name": "ipython",
    "version": 3
   },
   "file_extension": ".py",
   "mimetype": "text/x-python",
   "name": "python",
   "nbconvert_exporter": "python",
   "pygments_lexer": "ipython3",
   "version": "3.10.14"
  }
 },
 "nbformat": 4,
 "nbformat_minor": 2
}
