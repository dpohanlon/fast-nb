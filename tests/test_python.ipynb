{
 "cells": [
  {
   "cell_type": "code",
   "execution_count": 1,
   "metadata": {},
   "outputs": [],
   "source": [
    "import matplotlib as mpl\n",
    "%matplotlib inline\n",
    "import matplotlib.pyplot as plt\n",
    "\n",
    "%config InlineBackend.figure_format = 'retina'\n",
    "\n",
    "import numpy as np\n",
    "\n",
    "import pandas as pd\n",
    "\n",
    "import seaborn as sns\n",
    "\n",
    "from matplotlib import rcParams\n",
    "\n",
    "from tqdm import tqdm\n",
    "\n",
    "import re\n",
    "\n",
    "rcParams[\"axes.facecolor\"] = \"FFFFFF\"\n",
    "rcParams[\"savefig.facecolor\"] = \"FFFFFF\"\n",
    "rcParams[\"xtick.direction\"] = \"in\"\n",
    "rcParams[\"ytick.direction\"] = \"in\"\n",
    "\n",
    "rcParams['axes.linewidth'] = 2.0\n",
    "\n",
    "rcParams.update({\"figure.autolayout\": True})\n",
    "\n",
    "plt.rcParams[\"figure.figsize\"] = (6, 6)\n",
    "\n",
    "import numpy as np\n",
    "\n",
    "import scipy\n",
    "import jax\n",
    "import torch"
   ]
  },
  {
   "cell_type": "code",
   "execution_count": 2,
   "metadata": {},
   "outputs": [],
   "source": [
    "from fast_negative_binomial import negative_binomial, negative_binomial_vec"
   ]
  },
  {
   "cell_type": "code",
   "execution_count": 4,
   "metadata": {},
   "outputs": [
    {
     "name": "stdout",
     "output_type": "stream",
     "text": [
      "2.21 ms ± 212 μs per loop (mean ± std. dev. of 7 runs, 100 loops each)\n"
     ]
    }
   ],
   "source": [
    "%%timeit\n",
    "for i in range(100):\n",
    "    scipy.stats.nbinom.pmf(6,4,0.8)"
   ]
  },
  {
   "cell_type": "code",
   "execution_count": null,
   "metadata": {},
   "outputs": [],
   "source": [
    "%%timeit\n",
    "for i in range(100):\n",
    "    negative_binomial(6, 4, 0.8)"
   ]
  },
  {
   "cell_type": "code",
   "execution_count": null,
   "metadata": {},
   "outputs": [
    {
     "name": "stdout",
     "output_type": "stream",
     "text": [
      "420 μs ± 77.4 μs per loop (mean ± std. dev. of 7 runs, 1 loop each)\n"
     ]
    }
   ],
   "source": [
    "%%timeit\n",
    "for i in range(100):\n",
    "    jax.scipy.stats.nbinom.pmf(6, 4, 0.8)"
   ]
  },
  {
   "cell_type": "code",
   "execution_count": null,
   "metadata": {},
   "outputs": [
    {
     "name": "stdout",
     "output_type": "stream",
     "text": [
      "12.9 μs ± 84.2 ns per loop (mean ± std. dev. of 7 runs, 100,000 loops each)\n"
     ]
    }
   ],
   "source": [
    "%%timeit\n",
    "for i in range(100):\n",
    "    torch.distributions.negative_binomial.NegativeBinomial(6 + 4, 0.8)"
   ]
  },
  {
   "cell_type": "code",
   "execution_count": null,
   "metadata": {},
   "outputs": [
    {
     "data": {
      "text/plain": [
       "[0.0022020095999999963,\n",
       " 0.0022020095999999963,\n",
       " 0.0022020095999999963,\n",
       " 0.0022020095999999963,\n",
       " 0.0022020095999999963,\n",
       " 0.0022020095999999963,\n",
       " 0.0022020095999999963,\n",
       " 0.0022020095999999963,\n",
       " 0.0022020095999999963,\n",
       " 0.0022020095999999963,\n",
       " 0.0022020095999999963,\n",
       " 0.0022020095999999963,\n",
       " 0.0022020095999999963,\n",
       " 0.0022020095999999963,\n",
       " 0.0022020095999999963,\n",
       " 0.0022020095999999963,\n",
       " 0.0022020095999999963,\n",
       " 0.0022020095999999963,\n",
       " 0.0022020095999999963,\n",
       " 0.0022020095999999963,\n",
       " 0.0022020095999999963,\n",
       " 0.0022020095999999963,\n",
       " 0.0022020095999999963,\n",
       " 0.0022020095999999963,\n",
       " 0.0022020095999999963,\n",
       " 0.0022020095999999963,\n",
       " 0.0022020095999999963,\n",
       " 0.0022020095999999963,\n",
       " 0.0022020095999999963,\n",
       " 0.0022020095999999963,\n",
       " 0.0022020095999999963,\n",
       " 0.0022020095999999963,\n",
       " 0.0022020095999999963,\n",
       " 0.0022020095999999963,\n",
       " 0.0022020095999999963,\n",
       " 0.0022020095999999963,\n",
       " 0.0022020095999999963,\n",
       " 0.0022020095999999963,\n",
       " 0.0022020095999999963,\n",
       " 0.0022020095999999963,\n",
       " 0.0022020095999999963,\n",
       " 0.0022020095999999963,\n",
       " 0.0022020095999999963,\n",
       " 0.0022020095999999963,\n",
       " 0.0022020095999999963,\n",
       " 0.0022020095999999963,\n",
       " 0.0022020095999999963,\n",
       " 0.0022020095999999963,\n",
       " 0.0022020095999999963,\n",
       " 0.0022020095999999963,\n",
       " 0.0022020095999999963,\n",
       " 0.0022020095999999963,\n",
       " 0.0022020095999999963,\n",
       " 0.0022020095999999963,\n",
       " 0.0022020095999999963,\n",
       " 0.0022020095999999963,\n",
       " 0.0022020095999999963,\n",
       " 0.0022020095999999963,\n",
       " 0.0022020095999999963,\n",
       " 0.0022020095999999963,\n",
       " 0.0022020095999999963,\n",
       " 0.0022020095999999963,\n",
       " 0.0022020095999999963,\n",
       " 0.0022020095999999963,\n",
       " 0.0022020095999999963,\n",
       " 0.0022020095999999963,\n",
       " 0.0022020095999999963,\n",
       " 0.0022020095999999963,\n",
       " 0.0022020095999999963,\n",
       " 0.0022020095999999963,\n",
       " 0.0022020095999999963,\n",
       " 0.0022020095999999963,\n",
       " 0.0022020095999999963,\n",
       " 0.0022020095999999963,\n",
       " 0.0022020095999999963,\n",
       " 0.0022020095999999963,\n",
       " 0.0022020095999999963,\n",
       " 0.0022020095999999963,\n",
       " 0.0022020095999999963,\n",
       " 0.0022020095999999963,\n",
       " 0.0022020095999999963,\n",
       " 0.0022020095999999963,\n",
       " 0.0022020095999999963,\n",
       " 0.0022020095999999963,\n",
       " 0.0022020095999999963,\n",
       " 0.0022020095999999963,\n",
       " 0.0022020095999999963,\n",
       " 0.0022020095999999963,\n",
       " 0.0022020095999999963,\n",
       " 0.0022020095999999963,\n",
       " 0.0022020095999999963,\n",
       " 0.0022020095999999963,\n",
       " 0.0022020095999999963,\n",
       " 0.0022020095999999963,\n",
       " 0.0022020095999999963,\n",
       " 0.0022020095999999963,\n",
       " 0.0022020095999999963,\n",
       " 0.0022020095999999963,\n",
       " 0.0022020095999999963,\n",
       " 0.0022020095999999963]"
      ]
     },
     "execution_count": 3,
     "metadata": {},
     "output_type": "execute_result"
    }
   ],
   "source": [
    "%%timeit\n",
    "ks = [6 for i in range(100)]\n",
    "negative_binomial_vec(ks, 4, 0.8)"
   ]
  },
  {
   "cell_type": "code",
   "execution_count": null,
   "metadata": {},
   "outputs": [],
   "source": []
  }
 ],
 "metadata": {
  "kernelspec": {
   "display_name": "base",
   "language": "python",
   "name": "python3"
  },
  "language_info": {
   "codemirror_mode": {
    "name": "ipython",
    "version": 3
   },
   "file_extension": ".py",
   "mimetype": "text/x-python",
   "name": "python",
   "nbconvert_exporter": "python",
   "pygments_lexer": "ipython3",
   "version": "3.12.7"
  }
 },
 "nbformat": 4,
 "nbformat_minor": 2
}
